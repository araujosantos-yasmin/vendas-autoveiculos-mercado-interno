{
 "cells": [
  {
   "cell_type": "markdown",
   "id": "8aa775da",
   "metadata": {},
   "source": [
    "# Projeto de Análise de dados - Vendas de autoveículos "
   ]
  },
  {
   "cell_type": "markdown",
   "id": "dd57c574",
   "metadata": {},
   "source": [
    "Análise de dados de vendas mensais de autoveículos do mercado interno, correspondentes ao período de 1981-01 a 2023-04."
   ]
  },
  {
   "cell_type": "markdown",
   "id": "07af55ac",
   "metadata": {},
   "source": [
    "#### Fonte: Portal de Dados Abertos do Banco Central do Brasil \n",
    "##### (Disponível em: https://dadosabertos.bcb.gov.br/dataset/1379-vendas-de-autoveiculos-no-mercado-interno. Acesso em 19 maio 2023)"
   ]
  },
  {
   "cell_type": "markdown",
   "id": "038b3794",
   "metadata": {},
   "source": [
    "## Vendas de autoveículos no mercado interno"
   ]
  },
  {
   "cell_type": "markdown",
   "id": "5cabd1d8",
   "metadata": {},
   "source": [
    "## Preparo dos dados: "
   ]
  },
  {
   "cell_type": "code",
   "execution_count": 1,
   "id": "071470c6",
   "metadata": {},
   "outputs": [
    {
     "name": "stdout",
     "output_type": "stream",
     "text": [
      "<class 'pandas.core.frame.DataFrame'>\n",
      "RangeIndex: 508 entries, 0 to 507\n",
      "Data columns (total 2 columns):\n",
      " #   Column  Non-Null Count  Dtype \n",
      "---  ------  --------------  ----- \n",
      " 0   data    508 non-null    object\n",
      " 1   valor   508 non-null    int64 \n",
      "dtypes: int64(1), object(1)\n",
      "memory usage: 8.1+ KB\n",
      "None\n"
     ]
    },
    {
     "data": {
      "text/html": [
       "<div>\n",
       "<style scoped>\n",
       "    .dataframe tbody tr th:only-of-type {\n",
       "        vertical-align: middle;\n",
       "    }\n",
       "\n",
       "    .dataframe tbody tr th {\n",
       "        vertical-align: top;\n",
       "    }\n",
       "\n",
       "    .dataframe thead th {\n",
       "        text-align: right;\n",
       "    }\n",
       "</style>\n",
       "<table border=\"1\" class=\"dataframe\">\n",
       "  <thead>\n",
       "    <tr style=\"text-align: right;\">\n",
       "      <th></th>\n",
       "      <th>data</th>\n",
       "      <th>valor</th>\n",
       "    </tr>\n",
       "  </thead>\n",
       "  <tbody>\n",
       "    <tr>\n",
       "      <th>0</th>\n",
       "      <td>01/01/1981</td>\n",
       "      <td>73363</td>\n",
       "    </tr>\n",
       "    <tr>\n",
       "      <th>1</th>\n",
       "      <td>01/02/1981</td>\n",
       "      <td>48973</td>\n",
       "    </tr>\n",
       "    <tr>\n",
       "      <th>2</th>\n",
       "      <td>01/03/1981</td>\n",
       "      <td>40523</td>\n",
       "    </tr>\n",
       "    <tr>\n",
       "      <th>3</th>\n",
       "      <td>01/04/1981</td>\n",
       "      <td>48580</td>\n",
       "    </tr>\n",
       "    <tr>\n",
       "      <th>4</th>\n",
       "      <td>01/05/1981</td>\n",
       "      <td>41750</td>\n",
       "    </tr>\n",
       "    <tr>\n",
       "      <th>...</th>\n",
       "      <td>...</td>\n",
       "      <td>...</td>\n",
       "    </tr>\n",
       "    <tr>\n",
       "      <th>503</th>\n",
       "      <td>01/12/2022</td>\n",
       "      <td>187179</td>\n",
       "    </tr>\n",
       "    <tr>\n",
       "      <th>504</th>\n",
       "      <td>01/01/2023</td>\n",
       "      <td>122410</td>\n",
       "    </tr>\n",
       "    <tr>\n",
       "      <th>505</th>\n",
       "      <td>01/02/2023</td>\n",
       "      <td>112446</td>\n",
       "    </tr>\n",
       "    <tr>\n",
       "      <th>506</th>\n",
       "      <td>01/03/2023</td>\n",
       "      <td>171427</td>\n",
       "    </tr>\n",
       "    <tr>\n",
       "      <th>507</th>\n",
       "      <td>01/04/2023</td>\n",
       "      <td>138072</td>\n",
       "    </tr>\n",
       "  </tbody>\n",
       "</table>\n",
       "<p>508 rows × 2 columns</p>\n",
       "</div>"
      ],
      "text/plain": [
       "           data   valor\n",
       "0    01/01/1981   73363\n",
       "1    01/02/1981   48973\n",
       "2    01/03/1981   40523\n",
       "3    01/04/1981   48580\n",
       "4    01/05/1981   41750\n",
       "..          ...     ...\n",
       "503  01/12/2022  187179\n",
       "504  01/01/2023  122410\n",
       "505  01/02/2023  112446\n",
       "506  01/03/2023  171427\n",
       "507  01/04/2023  138072\n",
       "\n",
       "[508 rows x 2 columns]"
      ]
     },
     "execution_count": 1,
     "metadata": {},
     "output_type": "execute_result"
    }
   ],
   "source": [
    "# Importação das bibliotecas e módulos\n",
    "import pandas as pd\n",
    "from datetime import datetime as dt\n",
    "\n",
    "# Leitura do arquivo e armazenamento na variável \"df_vendas\"\n",
    "df_vendas = pd.read_json(\"https://api.bcb.gov.br/dados/serie/bcdata.sgs.1379/dados?formato=json\")\n",
    "\n",
    "# Captura de informações do arquivo\n",
    "print(df_vendas.info())\n",
    "df_vendas"
   ]
  },
  {
   "cell_type": "code",
   "execution_count": 2,
   "id": "9c026330",
   "metadata": {},
   "outputs": [
    {
     "data": {
      "text/html": [
       "<div>\n",
       "<style scoped>\n",
       "    .dataframe tbody tr th:only-of-type {\n",
       "        vertical-align: middle;\n",
       "    }\n",
       "\n",
       "    .dataframe tbody tr th {\n",
       "        vertical-align: top;\n",
       "    }\n",
       "\n",
       "    .dataframe thead th {\n",
       "        text-align: right;\n",
       "    }\n",
       "</style>\n",
       "<table border=\"1\" class=\"dataframe\">\n",
       "  <thead>\n",
       "    <tr style=\"text-align: right;\">\n",
       "      <th></th>\n",
       "      <th>valor</th>\n",
       "    </tr>\n",
       "    <tr>\n",
       "      <th>data</th>\n",
       "      <th></th>\n",
       "    </tr>\n",
       "  </thead>\n",
       "  <tbody>\n",
       "    <tr>\n",
       "      <th>04-2023</th>\n",
       "      <td>138072</td>\n",
       "    </tr>\n",
       "    <tr>\n",
       "      <th>03-2023</th>\n",
       "      <td>171427</td>\n",
       "    </tr>\n",
       "    <tr>\n",
       "      <th>02-2023</th>\n",
       "      <td>112446</td>\n",
       "    </tr>\n",
       "    <tr>\n",
       "      <th>01-2023</th>\n",
       "      <td>122410</td>\n",
       "    </tr>\n",
       "    <tr>\n",
       "      <th>12-2022</th>\n",
       "      <td>187179</td>\n",
       "    </tr>\n",
       "  </tbody>\n",
       "</table>\n",
       "</div>"
      ],
      "text/plain": [
       "          valor\n",
       "data           \n",
       "04-2023  138072\n",
       "03-2023  171427\n",
       "02-2023  112446\n",
       "01-2023  122410\n",
       "12-2022  187179"
      ]
     },
     "execution_count": 2,
     "metadata": {},
     "output_type": "execute_result"
    }
   ],
   "source": [
    "# Alteração do formato das datas\n",
    "df_vendas['data'] = pd.to_datetime(df_vendas['data'], dayfirst=True)\n",
    "\n",
    "# Organização da coluna de data em ordem decrescente \n",
    "df_vendas.sort_values(by='data', ascending=False, inplace=True)\n",
    "\n",
    "# Formatação das datas mantendo apenas o mês e o ano\n",
    "df_vendas['data'] = df_vendas['data'].dt.strftime('%m-%Y')\n",
    "\n",
    "# Mudança dos índices para a data correspondente \n",
    "df_vendas.set_index(keys=['data'], inplace=True)\n",
    "df_vendas.head()\n"
   ]
  },
  {
   "cell_type": "markdown",
   "id": "21f68c3d",
   "metadata": {},
   "source": [
    "## Extração de informações \n"
   ]
  },
  {
   "cell_type": "markdown",
   "id": "ea569e80",
   "metadata": {},
   "source": [
    "### 01-1981 a 04-2023"
   ]
  },
  {
   "cell_type": "markdown",
   "id": "fcfd121a",
   "metadata": {},
   "source": [
    "#### 1) Número de autoveículos vendidos durante o período: "
   ]
  },
  {
   "cell_type": "code",
   "execution_count": 3,
   "id": "0d1b288c",
   "metadata": {
    "scrolled": false
   },
   "outputs": [
    {
     "name": "stdout",
     "output_type": "stream",
     "text": [
      "Durante o período de 01-1981 a 04-2023 foram vendidos 66.683.198 autoveículos no mercado interno. \n"
     ]
    }
   ],
   "source": [
    "# Criação de uma função que formate sem casas decimais e com '.' como separador de milhar qualquer valor. \n",
    "def formatar_valor(valor):\n",
    "    return \"{:,.0f}\".format(valor).replace(\",\", \".\")\n",
    "\n",
    "# Soma dos valores da coluna 'valor' e uso da formatação\n",
    "vendas_soma = formatar_valor(df_vendas['valor'].sum())\n",
    "print(f'Durante o período de 01-1981 a 04-2023 foram vendidos {vendas_soma} autoveículos no mercado interno. ')\n"
   ]
  },
  {
   "cell_type": "markdown",
   "id": "9afbd5d2",
   "metadata": {},
   "source": [
    "#### 2) Meses com menor e maior número de autoveículos vendidos:"
   ]
  },
  {
   "cell_type": "code",
   "execution_count": 4,
   "id": "9efdc2aa",
   "metadata": {},
   "outputs": [
    {
     "name": "stdout",
     "output_type": "stream",
     "text": [
      "Mês com menor número de autoveículos vendidos: 04-1985 (25.023 autoveículos)\n",
      "Mês com maior número de autoveículos vendidos: 08-2012 (340.910 autoveículos)\n"
     ]
    }
   ],
   "source": [
    "# Seleção de índices e de seus respectivos valores com menor e maior número de vendas  \n",
    "mes_min = df_vendas['valor'].idxmin()\n",
    "valor_mes_min = formatar_valor(df_vendas['valor'].min())\n",
    "mes_max = df_vendas['valor'].idxmax()\n",
    "valor_mes_max = formatar_valor(df_vendas['valor'].max())\n",
    "\n",
    "print(f'Mês com menor número de autoveículos vendidos: {mes_min} ({valor_mes_min} autoveículos)')\n",
    "print(f'Mês com maior número de autoveículos vendidos: {mes_max} ({valor_mes_max} autoveículos)')"
   ]
  },
  {
   "cell_type": "markdown",
   "id": "0438bbaa",
   "metadata": {},
   "source": [
    "### 01-2019 (pré-pandemia) a 12-2022"
   ]
  },
  {
   "cell_type": "markdown",
   "id": "15fc7949",
   "metadata": {},
   "source": [
    "#### 3) Número de autoveículos vendidos durante o período:"
   ]
  },
  {
   "cell_type": "code",
   "execution_count": 5,
   "id": "4a515f46",
   "metadata": {},
   "outputs": [
    {
     "name": "stdout",
     "output_type": "stream",
     "text": [
      "Durante o período de 01-2019 a 12-2022 foram vendidos 8.034.076 autoveículos no mercado interno. \n"
     ]
    }
   ],
   "source": [
    "# Filtragem do período de 01-2019 a 12-2022\n",
    "vendas1 = df_vendas.loc['12-2022':'01-2019']\n",
    "\n",
    "# Soma dos valores da coluna 'valor' e formatação do resultado \n",
    "vendas_soma1 = formatar_valor(vendas1['valor'].sum())\n",
    "\n",
    "print(f'Durante o período de 01-2019 a 12-2022 foram vendidos {vendas_soma1} autoveículos no mercado interno. ')"
   ]
  },
  {
   "cell_type": "markdown",
   "id": "3a2f4dcc",
   "metadata": {},
   "source": [
    "#### 4) Número de autoveículos vendidos por ano: "
   ]
  },
  {
   "cell_type": "code",
   "execution_count": 6,
   "id": "9a7d262a",
   "metadata": {},
   "outputs": [
    {
     "name": "stdout",
     "output_type": "stream",
     "text": [
      "O número de unidades vendidas por ano no período de 2019-2022 pode ser conferida na tabela a seguir: \n"
     ]
    },
    {
     "data": {
      "text/html": [
       "<div>\n",
       "<style scoped>\n",
       "    .dataframe tbody tr th:only-of-type {\n",
       "        vertical-align: middle;\n",
       "    }\n",
       "\n",
       "    .dataframe tbody tr th {\n",
       "        vertical-align: top;\n",
       "    }\n",
       "\n",
       "    .dataframe thead th {\n",
       "        text-align: right;\n",
       "    }\n",
       "</style>\n",
       "<table border=\"1\" class=\"dataframe\">\n",
       "  <thead>\n",
       "    <tr style=\"text-align: right;\">\n",
       "      <th></th>\n",
       "      <th>Valores</th>\n",
       "    </tr>\n",
       "    <tr>\n",
       "      <th>Ano</th>\n",
       "      <th></th>\n",
       "    </tr>\n",
       "  </thead>\n",
       "  <tbody>\n",
       "    <tr>\n",
       "      <th>2019</th>\n",
       "      <td>2.490.193</td>\n",
       "    </tr>\n",
       "    <tr>\n",
       "      <th>2020</th>\n",
       "      <td>1.846.818</td>\n",
       "    </tr>\n",
       "    <tr>\n",
       "      <th>2021</th>\n",
       "      <td>1.866.073</td>\n",
       "    </tr>\n",
       "    <tr>\n",
       "      <th>2022</th>\n",
       "      <td>1.830.992</td>\n",
       "    </tr>\n",
       "  </tbody>\n",
       "</table>\n",
       "</div>"
      ],
      "text/plain": [
       "        Valores\n",
       "Ano            \n",
       "2019  2.490.193\n",
       "2020  1.846.818\n",
       "2021  1.866.073\n",
       "2022  1.830.992"
      ]
     },
     "execution_count": 6,
     "metadata": {},
     "output_type": "execute_result"
    }
   ],
   "source": [
    "#Filtragem dos respectivos anos \n",
    "_2019 = df_vendas.loc['12-2019':'01-2019']\n",
    "_2020 = df_vendas.loc['12-2020':'01-2020']\n",
    "_2021 = df_vendas.loc['12-2021':'01-2021']\n",
    "_2022 = df_vendas.loc['12-2022':'01-2022']\n",
    "\n",
    "#Somatória de unidades vendidas por ano\n",
    "vendas_2019 = int(_2019.sum())\n",
    "vendas_2020 = int(_2020.sum())\n",
    "vendas_2021 = int(_2021.sum())\n",
    "vendas_2022 = int(_2022.sum())\n",
    "\n",
    "#Dicionário com os anos e somatória de unidades vendidas \n",
    "somatoria = {\n",
    "    'Ano': ['2019', '2020', '2021', '2022'],\n",
    "    'Valores':[vendas_2019, vendas_2020, vendas_2021, vendas_2022]\n",
    "}\n",
    "\n",
    "#Criação de DataFrame com a soma de vendas de cada ano \n",
    "somatoria_2019a2022 = pd.DataFrame(somatoria)\n",
    "\n",
    "# Definição da coluna 'Ano' como índice\n",
    "somatoria_2019a2022 = somatoria_2019a2022.set_index('Ano')\n",
    "\n",
    "# Formatação da coluna 'Valores' \n",
    "somatoria_2019a2022['Valores'] = somatoria_2019a2022['Valores'].map(formatar_valor)\n",
    "\n",
    "print('O número de unidades vendidas por ano no período de 2019-2022 pode ser conferida na tabela a seguir: ')\n",
    "somatoria_2019a2022\n"
   ]
  },
  {
   "cell_type": "markdown",
   "id": "78b7d494",
   "metadata": {},
   "source": [
    "#### 5) Meses com menor e maior número de autoveículos vendidos:"
   ]
  },
  {
   "cell_type": "code",
   "execution_count": 7,
   "id": "9cfb3e42",
   "metadata": {},
   "outputs": [
    {
     "name": "stdout",
     "output_type": "stream",
     "text": [
      "No período de 2019-2022: \n",
      "Mês com menor número de autoveículos vendidos: 04-2020 (47.368 autoveículos)\n",
      "Mês com maior número de autoveículos vendidos: 12-2019 (233.063 autoveículos)\n"
     ]
    }
   ],
   "source": [
    "# Seleção de índices e de seus respectivos valores com menor e maior número de vendas \n",
    "mes_min1 = vendas1['valor'].idxmin()\n",
    "valor_mes_min1 = formatar_valor(vendas1['valor'].min())\n",
    "mes_max1 = vendas1['valor'].idxmax()\n",
    "valor_mes_max1 = formatar_valor(vendas1['valor'].max())\n",
    "\n",
    "print('No período de 2019-2022: ')\n",
    "print(f'Mês com menor número de autoveículos vendidos: {mes_min1} ({valor_mes_min1} autoveículos)')\n",
    "print(f'Mês com maior número de autoveículos vendidos: {mes_max1} ({valor_mes_max1} autoveículos)')"
   ]
  },
  {
   "cell_type": "markdown",
   "id": "448a644b",
   "metadata": {},
   "source": [
    "#### 6) Média de autoveículos vendidos por mês em cada ano:"
   ]
  },
  {
   "cell_type": "code",
   "execution_count": 8,
   "id": "444e2023",
   "metadata": {},
   "outputs": [
    {
     "name": "stdout",
     "output_type": "stream",
     "text": [
      "A média de unidades vendidas por mês em cada ano, de 2019-2022, pode ser conferida na tabela a seguir: \n"
     ]
    },
    {
     "data": {
      "text/html": [
       "<div>\n",
       "<style scoped>\n",
       "    .dataframe tbody tr th:only-of-type {\n",
       "        vertical-align: middle;\n",
       "    }\n",
       "\n",
       "    .dataframe tbody tr th {\n",
       "        vertical-align: top;\n",
       "    }\n",
       "\n",
       "    .dataframe thead th {\n",
       "        text-align: right;\n",
       "    }\n",
       "</style>\n",
       "<table border=\"1\" class=\"dataframe\">\n",
       "  <thead>\n",
       "    <tr style=\"text-align: right;\">\n",
       "      <th></th>\n",
       "      <th>Valores</th>\n",
       "    </tr>\n",
       "    <tr>\n",
       "      <th>Ano</th>\n",
       "      <th></th>\n",
       "    </tr>\n",
       "  </thead>\n",
       "  <tbody>\n",
       "    <tr>\n",
       "      <th>2019</th>\n",
       "      <td>207.516</td>\n",
       "    </tr>\n",
       "    <tr>\n",
       "      <th>2020</th>\n",
       "      <td>153.901</td>\n",
       "    </tr>\n",
       "    <tr>\n",
       "      <th>2021</th>\n",
       "      <td>155.506</td>\n",
       "    </tr>\n",
       "    <tr>\n",
       "      <th>2022</th>\n",
       "      <td>152.582</td>\n",
       "    </tr>\n",
       "  </tbody>\n",
       "</table>\n",
       "</div>"
      ],
      "text/plain": [
       "      Valores\n",
       "Ano          \n",
       "2019  207.516\n",
       "2020  153.901\n",
       "2021  155.506\n",
       "2022  152.582"
      ]
     },
     "execution_count": 8,
     "metadata": {},
     "output_type": "execute_result"
    }
   ],
   "source": [
    "#Média mensal de unidades vendidas por ano \n",
    "media_2019 = int(_2019.mean())\n",
    "media_2020 = int(_2020.mean())\n",
    "media_2021 = int(_2021.mean())\n",
    "media_2022 = int(_2022.mean())\n",
    "\n",
    "#Dicionário com os anos e a média mensal de unidades vendidas \n",
    "media = {\n",
    "    'Ano': ['2019', '2020', '2021', '2022'],\n",
    "    'Valores':[media_2019, media_2020, media_2021, media_2022]\n",
    "}\n",
    "\n",
    "#Criação de DataFrame com a média mensal de vendas de cada ano \n",
    "media_2019a2022 = pd.DataFrame(media)\n",
    "\n",
    "# Definição da coluna 'Ano' como índice\n",
    "media_2019a2022 = media_2019a2022.set_index('Ano')\n",
    "\n",
    "# Formatação da coluna 'Valores' \n",
    "media_2019a2022['Valores'] = media_2019a2022['Valores'].map(formatar_valor)\n",
    "\n",
    "print('A média de unidades vendidas por mês em cada ano, de 2019-2022, pode ser conferida na tabela a seguir: ')\n",
    "media_2019a2022\n"
   ]
  },
  {
   "cell_type": "markdown",
   "id": "799eb8a8",
   "metadata": {},
   "source": [
    "### Comparação entre os quatro primeiros meses de 2019 (pré-pandemia) e 2023 (pós-pandemia)"
   ]
  },
  {
   "cell_type": "markdown",
   "id": "df0875e2",
   "metadata": {},
   "source": [
    "#### 7) Número de autoveículos vendidos:"
   ]
  },
  {
   "cell_type": "code",
   "execution_count": 9,
   "id": "76df0b9a",
   "metadata": {},
   "outputs": [
    {
     "name": "stdout",
     "output_type": "stream",
     "text": [
      "Durante os quatro primeiros meses de 2019 foram vendidos 744.529 autoveículos no mercado interno. \n",
      "Durante os quatro primeiros meses de 2023 foram vendidos 544.355 autoveículos no mercado interno. \n"
     ]
    }
   ],
   "source": [
    "# Filtragem do período \n",
    "_4meses_2019 = df_vendas.loc['04-2019':'01-2019']\n",
    "_4meses_2023 = df_vendas.loc['04-2023':'01-2023']\n",
    "\n",
    "# Formatação do resultado da somas por período analisado\n",
    "soma__4meses_2019 = formatar_valor(_4meses_2019['valor'].sum())\n",
    "print(f'Durante os quatro primeiros meses de 2019 foram vendidos {soma__4meses_2019} autoveículos no mercado interno. ')\n",
    "\n",
    "soma__4meses_2023 = formatar_valor(_4meses_2023['valor'].sum())\n",
    "print(f'Durante os quatro primeiros meses de 2023 foram vendidos {soma__4meses_2023} autoveículos no mercado interno. ')\n"
   ]
  },
  {
   "cell_type": "markdown",
   "id": "36554e92",
   "metadata": {},
   "source": [
    "#### 8) Comparação do número de autoveículos vendidos em Abril/2019 e Abril/2023."
   ]
  },
  {
   "cell_type": "code",
   "execution_count": 10,
   "id": "45b442a1",
   "metadata": {},
   "outputs": [
    {
     "name": "stdout",
     "output_type": "stream",
     "text": [
      "Em Abril/2019 foram vendidos 205.774 autoveículos e em Abril/2023, 138.072.\n"
     ]
    }
   ],
   "source": [
    "#Filtragem do período e formatação do valor\n",
    "abril_2019 = formatar_valor(int(df_vendas.loc['04-2019']))\n",
    "abril_2023 = formatar_valor(int(df_vendas.loc['04-2023']))\n",
    "\n",
    "print(f'Em Abril/2019 foram vendidos {abril_2019} autoveículos e em Abril/2023, {abril_2023}.')"
   ]
  },
  {
   "cell_type": "code",
   "execution_count": 11,
   "id": "fa2f4461",
   "metadata": {},
   "outputs": [
    {
     "name": "stdout",
     "output_type": "stream",
     "text": [
      "Em Abril/2023 foram vendidos 67.702 autoveículos a menos que em Abril/2019.\n"
     ]
    }
   ],
   "source": [
    "#Cálculo de diferença\n",
    "diferenca = float(abril_2019) - float(abril_2023)\n",
    "print(f'Em Abril/2023 foram vendidos {diferenca} autoveículos a menos que em Abril/2019.')"
   ]
  },
  {
   "cell_type": "code",
   "execution_count": 12,
   "id": "760af25b",
   "metadata": {},
   "outputs": [
    {
     "name": "stdout",
     "output_type": "stream",
     "text": [
      "O número de vendas caiu 32.90% em Abril/2023 comparado a Abril/2019.\n"
     ]
    }
   ],
   "source": [
    "#Porcentagem de diferença \n",
    "porcentagem = ((float(abril_2023) - float(abril_2019)) / float(abril_2019)) * 100\n",
    "\n",
    "#Mensagem de saída com o número formatado como porcentagem, duas casas decimais e positivo \n",
    "print(\"O número de vendas caiu {:.2f}% em Abril/2023 comparado a Abril/2019.\".format(abs(porcentagem)))"
   ]
  },
  {
   "cell_type": "markdown",
   "id": "3154161e",
   "metadata": {},
   "source": [
    "### Comparação entre 2022 e 2023 (quatro primeiros meses) "
   ]
  },
  {
   "cell_type": "markdown",
   "id": "dbb27075",
   "metadata": {},
   "source": [
    "#### 9) Número de autoveículos vendidos: "
   ]
  },
  {
   "cell_type": "code",
   "execution_count": 13,
   "id": "f13de1ee",
   "metadata": {},
   "outputs": [
    {
     "name": "stdout",
     "output_type": "stream",
     "text": [
      "Durante os quatro primeiros meses de 2022 foram vendidos 482.940 autoveículos no mercado interno. \n",
      "Durante os quatro primeiros meses de 2023 foram vendidos 544.355 autoveículos no mercado interno. \n"
     ]
    }
   ],
   "source": [
    "# Filtragem do período \n",
    "_4meses_2022 = df_vendas.loc['04-2022':'01-2022']\n",
    "_4meses_2023 = df_vendas.loc['04-2023':'01-2023']\n",
    "\n",
    "# Formatação do resultado da somas por período analisado\n",
    "soma__4meses_2022 = formatar_valor(_4meses_2022['valor'].sum())\n",
    "print(f'Durante os quatro primeiros meses de 2022 foram vendidos {soma__4meses_2022} autoveículos no mercado interno. ')\n",
    "\n",
    "soma__4meses_2023 = formatar_valor(_4meses_2023['valor'].sum())\n",
    "print(f'Durante os quatro primeiros meses de 2023 foram vendidos {soma__4meses_2023} autoveículos no mercado interno. ')\n"
   ]
  },
  {
   "cell_type": "markdown",
   "id": "045aa188",
   "metadata": {},
   "source": [
    "#### 10) Comparação do número de autoveículos vendidos em Abril/2022 e Abril/2023"
   ]
  },
  {
   "cell_type": "code",
   "execution_count": 14,
   "id": "67f30a45",
   "metadata": {},
   "outputs": [
    {
     "name": "stdout",
     "output_type": "stream",
     "text": [
      "Em Abril/2022 foram vendidos 128.362 autoveículos e em Abril/2023, 138.072.\n"
     ]
    }
   ],
   "source": [
    "#Filtragem do período e formatação do valor\n",
    "abril_2022 = formatar_valor(int(df_vendas.loc['04-2022']))\n",
    "abril_2023 = formatar_valor(int(df_vendas.loc['04-2023']))\n",
    "\n",
    "print(f'Em Abril/2022 foram vendidos {abril_2022} autoveículos e em Abril/2023, {abril_2023}.')"
   ]
  },
  {
   "cell_type": "code",
   "execution_count": 15,
   "id": "077c4eb8",
   "metadata": {
    "scrolled": true
   },
   "outputs": [
    {
     "name": "stdout",
     "output_type": "stream",
     "text": [
      "Em Abril/2023 foram vendidos 9.710 autoveículos a mais que em Abril/2022.\n"
     ]
    }
   ],
   "source": [
    "#Cálculo de diferença\n",
    "diferenca1 = float(abril_2023) - float(abril_2022)\n",
    "\n",
    "#Impressão da mensagem e do valor da diferença com 3 casas decimais \n",
    "print(\"Em Abril/2023 foram vendidos {:.3f} autoveículos a mais que em Abril/2022.\".format(diferenca1))"
   ]
  },
  {
   "cell_type": "code",
   "execution_count": 16,
   "id": "221fb824",
   "metadata": {
    "scrolled": true
   },
   "outputs": [
    {
     "name": "stdout",
     "output_type": "stream",
     "text": [
      "O número de vendas cresceu 7.56% em Abril/2023 comparado a Abril/2022\n"
     ]
    }
   ],
   "source": [
    "#Porcentagem de diferença \n",
    "porcentagem1 = ((float(abril_2023) - float(abril_2022)) / float(abril_2022)) * 100\n",
    "\n",
    "#Mensagem de saída com o número formatado como porcentagem e duas casas decimais\n",
    "print(\"O número de vendas cresceu {:.2f}% em Abril/2023 comparado a Abril/2022\".format(porcentagem1))"
   ]
  }
 ],
 "metadata": {
  "kernelspec": {
   "display_name": "Python 3 (ipykernel)",
   "language": "python",
   "name": "python3"
  },
  "language_info": {
   "codemirror_mode": {
    "name": "ipython",
    "version": 3
   },
   "file_extension": ".py",
   "mimetype": "text/x-python",
   "name": "python",
   "nbconvert_exporter": "python",
   "pygments_lexer": "ipython3",
   "version": "3.9.13"
  }
 },
 "nbformat": 4,
 "nbformat_minor": 5
}
